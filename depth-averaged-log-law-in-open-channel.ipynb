{
 "cells": [
  {
   "cell_type": "markdown",
   "metadata": {},
   "source": [
    "## depth averaged log-law in open channel"
   ]
  },
  {
   "cell_type": "markdown",
   "metadata": {},
   "source": [
    "### 開水路において水深平均化された対数則の導出"
   ]
  },
  {
   "cell_type": "markdown",
   "metadata": {},
   "source": [
    "まず、完全粗面の円管流れの対数則による流速分布を示すと次のとおりとなる。"
   ]
  },
  {
   "cell_type": "markdown",
   "metadata": {},
   "source": [
    "\\begin{align}\n",
    "\\frac{u}{u_*}  = \\frac{1}{\\kappa}\\log_e{\\frac{z}{k}} + A_r = \\frac{1}{\\kappa \\log_{10}{e}}\\log_{10}{\\frac{z}{k}}+ A_r\n",
    "\\end{align}"
   ]
  },
  {
   "cell_type": "markdown",
   "metadata": {},
   "source": [
    "ここに、$\\kappa$:カルマン定数、$k$:粗度高さ、$z$：壁面からの距離である。\n",
    "また、$A_r$はNikuradseの実験より8.5である。"
   ]
  },
  {
   "cell_type": "markdown",
   "metadata": {},
   "source": [
    "次に水深平均流速$V$に対する対数則を導出する。上式を水深積分すると次のとおりである。\n",
    "\n",
    "\n",
    "\\begin{align}\n",
    "\\frac{V}{u_*} &= \\frac{1}{h}\\int_0^h \\frac{u}{u_*} dz \\nonumber \\\\\n",
    " &= \\frac{1}{\\kappa}\\log_e{\\frac{h}{k}} - \\frac{1}{\\kappa} + A_r  \\\\\n",
    " &= \\frac{1}{\\kappa \\log_{10}{e}}\\log_{10}{\\frac{h}{k}}- \\frac{1}{\\kappa}+ A_r\n",
    "\\end{align}"
   ]
  },
  {
   "cell_type": "markdown",
   "metadata": {},
   "source": [
    "これが開水路において水深平均化された対数則である。\n",
    "\n",
    "取り扱いやすいように次式のように変形することがある。\n",
    "\n"
   ]
  },
  {
   "cell_type": "markdown",
   "metadata": {},
   "source": [
    "\\begin{align}\n",
    "\\frac{V}{u_*} &= \\frac{1}{\\kappa}\\log_e{\\frac{h}{k}} - \\frac{1}{\\kappa} + A_r  = \\frac{1}{\\kappa}\\log_e \\left({e^{\\kappa A_r-1}\\frac{h}{k}} \\right)\n",
    "\\end{align}"
   ]
  },
  {
   "cell_type": "markdown",
   "metadata": {},
   "source": [
    "また、自然河道を対象とする場合水深$h$を径深$R$とする。"
   ]
  },
  {
   "cell_type": "markdown",
   "metadata": {},
   "source": [
    "### manning-stricklerによる近似形"
   ]
  },
  {
   "cell_type": "markdown",
   "metadata": {},
   "source": [
    "manning則を用いて式変形を行うと流速係数$\\phi = V/u_*$は以下のように示される。\n",
    "本式は自然河道の場合$\\phi$が8～25であることを条件とした近似式である。"
   ]
  },
  {
   "cell_type": "markdown",
   "metadata": {},
   "source": [
    "\\begin{align}\n",
    "\\phi &= \\frac{V}{u_*} = \\frac{k^{1/6}}{n \\sqrt{g}} \\left(\\frac{R}{k} \\right)^{1/6} \\nonumber \\\\\n",
    "\\frac{k^{1/6}}{n \\sqrt{g}} & \\sim 7.66\n",
    "\\end{align}"
   ]
  },
  {
   "cell_type": "markdown",
   "metadata": {},
   "source": [
    "### 対数則について思うこと\n",
    "\n",
    "教科書等では開水路の対数則は以下のような式形が多く見られる。\n",
    "\n",
    "\\begin{align}\n",
    "\\frac{V}{u_*}  =  5.75\\log_{10}{\\frac{h}{k}}+ 6.0\n",
    "\\end{align}\n",
    "\n",
    "この書き方をすると定数がたくさんあるように見えるのでやめて欲しいです。前項の書き方のほうが実験定数は$A_r$のみであることがわかりやすいと思う。"
   ]
  },
  {
   "cell_type": "markdown",
   "metadata": {},
   "source": [
    "### 参考：対数則の導出\n",
    "\n",
    "乱流のせん断応力は次式で示される。\n",
    "\n",
    "\\begin{align}\n",
    "\\tau_0 = \\rho (\\nu + \\epsilon) \\dfrac{du}{dz}\n",
    "\\end{align}\n",
    "\n",
    "Prandtlの混合距離の考え方を用いると、\n",
    "\n",
    "\\begin{align}\n",
    "\\epsilon &= l^2\\left|\\dfrac{du}{dz}\\right| \\\\\n",
    "l &= \\kappa z\n",
    "\\end{align}\n",
    "\n",
    "となる。\n",
    "さらに、$\\nu \\ll \\epsilon$および$u_* = \\sqrt{\\tau_0/\\rho}$を用いると次のように整理できる。\n",
    "\n",
    "\\begin{align}\n",
    "u_*^2 &= \\kappa^2 z^2 \\left( \\dfrac{du}{dz} \\right)^2 \\\\\n",
    "\\dfrac{du}{dz} &= \\dfrac{u_*}{\\kappa z}\n",
    "\\end{align}\n",
    "\n",
    "この式を$z=0$から$z$まで積分して、$z=0$の流速を$A_r u_*$と与えると冒頭の対数則が得られる。"
   ]
  },
  {
   "cell_type": "markdown",
   "metadata": {},
   "source": [
    "### 参考：対数則の数値計算上のテクニック\n",
    "\n",
    "数値計算で対数則を用いる場合、$h$が$k$以下となることがある。\n",
    "この領域では本来対数則を用いることはできないが、便宜的に次のように取り扱う。\n",
    "\n",
    "\\begin{align}\n",
    " \\frac{V}{u_*} = \\begin{cases}\n",
    "    \\dfrac{1}{\\kappa}\\left(\\log_e{\\dfrac{h}{k}} - 1\\right) + A_r & \\left(\\log_e{\\dfrac{h}{k}} \\ge 1\\right) \\\\\n",
    "     A_r & \\left(\\log_e{\\dfrac{h}{k}} \\lt 1 \\right) \\\\\n",
    "  \\end{cases}\n",
    "\\end{align}\n",
    "\n",
    "これにより、河床近傍の流速が$A_r u_*$となることを満足する。"
   ]
  },
  {
   "cell_type": "markdown",
   "metadata": {},
   "source": [
    "### 参考文献"
   ]
  },
  {
   "cell_type": "markdown",
   "metadata": {},
   "source": [
    "水理学 1 椿東一郎\n",
    "https://www.amazon.co.jp/dp/4627420609"
   ]
  }
 ],
 "metadata": {
  "kernelspec": {
   "display_name": "Python 3",
   "language": "python",
   "name": "python3"
  },
  "language_info": {
   "codemirror_mode": {
    "name": "ipython",
    "version": 3
   },
   "file_extension": ".py",
   "mimetype": "text/x-python",
   "name": "python",
   "nbconvert_exporter": "python",
   "pygments_lexer": "ipython3",
   "version": "3.6.10"
  },
  "toc": {
   "base_numbering": 1,
   "nav_menu": {},
   "number_sections": true,
   "sideBar": true,
   "skip_h1_title": false,
   "title_cell": "Table of Contents",
   "title_sidebar": "Contents",
   "toc_cell": false,
   "toc_position": {},
   "toc_section_display": true,
   "toc_window_display": false
  }
 },
 "nbformat": 4,
 "nbformat_minor": 4
}
