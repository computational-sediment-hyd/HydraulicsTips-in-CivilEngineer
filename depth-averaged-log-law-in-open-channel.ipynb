{
 "cells": [
  {
   "cell_type": "markdown",
   "metadata": {},
   "source": [
    "## depth averaged log-law in open channel"
   ]
  },
  {
   "cell_type": "markdown",
   "metadata": {},
   "source": [
    "### 開水路において水深平均化された対数則の導出"
   ]
  },
  {
   "cell_type": "markdown",
   "metadata": {},
   "source": [
    "まず、完全粗面の円管流れの対数則による流速分を示すと次のとおりとなる。"
   ]
  },
  {
   "cell_type": "markdown",
   "metadata": {},
   "source": [
    "$$\n",
    "\\frac{u}{u_*}  = \\frac{1}{\\kappa}\\log_e{\\frac{y}{k}} + C = \\frac{1}{\\kappa \\log_{10}{e}}\\log_{10}{\\frac{y}{k}}+ C \n",
    "$$"
   ]
  },
  {
   "cell_type": "markdown",
   "metadata": {},
   "source": [
    "ここに、$\\kappa$:カルマン定数、$k$:粗度高さ、$y$：壁面からの距離である。\n",
    "また、$C$はNikuradseの実験より8.5である。"
   ]
  },
  {
   "cell_type": "markdown",
   "metadata": {},
   "source": [
    "次に水深流速$V$に対する対数則を導出する。上式を水深積分すると次のとおりである。\n",
    "\n",
    "\n",
    "$$\n",
    "\\begin{align}\n",
    "\\frac{V}{u_*} &= \\frac{1}{h}\\int_0^h \\frac{u}{u_*} dy \\nonumber \\\\\n",
    " &= \\frac{1}{\\kappa}\\log_e{\\frac{h}{k}} - \\frac{1}{\\kappa} + C  \\\\\n",
    " &= \\frac{1}{\\kappa \\log_{10}{e}}\\log_{10}{\\frac{h}{k}}- \\frac{1}{\\kappa}+ C \n",
    "\\end{align}\n",
    "$$"
   ]
  },
  {
   "cell_type": "markdown",
   "metadata": {},
   "source": [
    "これが開水路において水深平均化された対数則である。\n",
    "\n",
    "取り扱いやすいように次式のように変形することが多い。\n",
    "\n"
   ]
  },
  {
   "cell_type": "markdown",
   "metadata": {},
   "source": [
    "$$\n",
    "\\begin{align}\n",
    "\\frac{V}{u_*} &= \\frac{1}{\\kappa}\\log_e{\\frac{h}{k}} - \\frac{1}{\\kappa} + C  = \\frac{1}{\\kappa}\\log_e \\left({e^{\\kappa C-1}\\frac{h}{k}} \\right)\n",
    "\\end{align}\n",
    "$$"
   ]
  },
  {
   "cell_type": "markdown",
   "metadata": {},
   "source": [
    "また、自然河道を対象とする場合水深$h$を径深$R$とする。"
   ]
  },
  {
   "cell_type": "markdown",
   "metadata": {},
   "source": [
    "### manning-stricklerによる近似形"
   ]
  },
  {
   "cell_type": "markdown",
   "metadata": {},
   "source": [
    "manning則を用いて式変形を行うと流速係数$\\phi = V/u_*$は以下のように示される。\n",
    "本式は自然河道の場合$\\phi$が8～25であることを条件とした近似式である。"
   ]
  },
  {
   "cell_type": "markdown",
   "metadata": {},
   "source": [
    "$$\n",
    "\\begin{align}\n",
    "\\phi &= \\frac{V}{u_*} = \\frac{k_s^{1/6}}{n \\sqrt{g}} \\left(\\frac{R}{k_s} \\right)^{1/6} \\nonumber \\\\\n",
    "\\frac{k_s^{1/6}}{n \\sqrt{g}} & \\sim 7.66\n",
    "% \\frac{1}{\\kappa}\\log_e{\\frac{h}{k}} - \\frac{1}{\\kappa} + C  = \\frac{1}{\\kappa}\\log_e \\left({e^{\\kappa C-1}\\frac{h}{k}} \\right)\n",
    "\\end{align}\n",
    "$$"
   ]
  },
  {
   "cell_type": "markdown",
   "metadata": {},
   "source": [
    "### 参考文献"
   ]
  },
  {
   "cell_type": "markdown",
   "metadata": {},
   "source": [
    "水理学 1 椿東一郎\n",
    "https://www.amazon.co.jp/dp/4627420609"
   ]
  }
 ],
 "metadata": {
  "kernelspec": {
   "display_name": "Python 3",
   "language": "python",
   "name": "python3"
  },
  "language_info": {
   "codemirror_mode": {
    "name": "ipython",
    "version": 3
   },
   "file_extension": ".py",
   "mimetype": "text/x-python",
   "name": "python",
   "nbconvert_exporter": "python",
   "pygments_lexer": "ipython3",
   "version": "3.6.10"
  },
  "toc": {
   "base_numbering": 1,
   "nav_menu": {},
   "number_sections": true,
   "sideBar": true,
   "skip_h1_title": false,
   "title_cell": "Table of Contents",
   "title_sidebar": "Contents",
   "toc_cell": false,
   "toc_position": {},
   "toc_section_display": true,
   "toc_window_display": false
  }
 },
 "nbformat": 4,
 "nbformat_minor": 4
}
